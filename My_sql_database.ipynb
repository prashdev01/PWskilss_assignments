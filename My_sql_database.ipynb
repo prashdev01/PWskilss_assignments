{
 "cells": [
  {
   "attachments": {},
   "cell_type": "markdown",
   "metadata": {},
   "source": [
    "# Q1. What is a database? Differentiate between SQL and NoSQL databases."
   ]
  },
  {
   "attachments": {},
   "cell_type": "markdown",
   "metadata": {},
   "source": [
    "### a database is collection of data that stored and organized in a way that allows easy access and retrieal of data. sql(structured query languege) databases are called primaruy databases(RDBMS) ,whereas Nosql databases are primarlly called as non-relational or disrtibuted database"
   ]
  },
  {
   "attachments": {},
   "cell_type": "markdown",
   "metadata": {},
   "source": [
    "# Q2. What is DDL? Explain why CREATE, DROP, ALTER, and TRUNCATE are used with an example."
   ]
  },
  {
   "attachments": {},
   "cell_type": "markdown",
   "metadata": {},
   "source": [
    "### DDL (Data Defination Languege ) consist of these commonnd which are used to define the database , CREATE, DROP, ALTER, and TRUNCATE are some of the ddl commonds\n",
    "#### For example, CREATE command is used to create a new table in the database. DROP command is used to delete an entire table or a view from the database. ALTER command is used to modify an existing table structure by adding or deleting columns2. TRUNCATE command is used to delete all rows from a table"
   ]
  },
  {
   "attachments": {},
   "cell_type": "markdown",
   "metadata": {},
   "source": [
    "# Q3. What is DML? Explain INSERT, UPDATE, and DELETE with an example"
   ]
  },
  {
   "attachments": {},
   "cell_type": "markdown",
   "metadata": {},
   "source": [
    "### DML(Data Manipulation Languege ) deal with the manipulation of data present in the database, INSERT,UPDATE,DELETE are some commonds of dml\n",
    "\n",
    "#### For example, INSERT command is used to add new rows to an existing table in the database. UPDATE command is used to modify existing rows in tables. DELETE command is used to delete rows from tables."
   ]
  },
  {
   "attachments": {},
   "cell_type": "markdown",
   "metadata": {},
   "source": [
    "# Q4. What is DQL? Explain SELECT with an example.\n"
   ]
  },
  {
   "attachments": {},
   "cell_type": "markdown",
   "metadata": {},
   "source": [
    "### DQL(Data Query Languege ) deals with the selection of data from a database select is one of the dql command\n",
    "#### For example, SELECT command is used to retrieve data from one or more tables in a database. "
   ]
  },
  {
   "attachments": {},
   "cell_type": "markdown",
   "metadata": {},
   "source": [
    "# Q5. Explain Primary Key and Foreign Key."
   ]
  },
  {
   "attachments": {},
   "cell_type": "markdown",
   "metadata": {},
   "source": [
    "### primary key : a primary key is a column or set of columns that uniquely identifies each row row in table it cannot cantain null values\n",
    "### foreign key : a foreign key is a column or set of columns that refers to the primary key of the another table .it helps establish a relation between two tables "
   ]
  },
  {
   "attachments": {},
   "cell_type": "markdown",
   "metadata": {},
   "source": [
    "# Q6. Write a python code to connect MySQL to python. Explain the cursor() and execute() method.\n"
   ]
  },
  {
   "cell_type": "code",
   "execution_count": null,
   "metadata": {},
   "outputs": [],
   "source": [
    "import mysql.connector\n",
    "\n",
    "mydb = mysql.connector.connect(\n",
    "  host=\"localhost\",\n",
    "  user=\"yourusername\",\n",
    "  password=\"yourpassword\"\n",
    ")\n",
    "\n",
    "mycursor = mydb.cursor()\n",
    "\n",
    "mycursor.execute(\"CREATE DATABASE mydatabase\")"
   ]
  },
  {
   "attachments": {},
   "cell_type": "markdown",
   "metadata": {},
   "source": [
    "# Q7. Give the order of execution of SQL clauses in an SQL query.\n"
   ]
  },
  {
   "attachments": {},
   "cell_type": "markdown",
   "metadata": {},
   "source": [
    "1. SELECT\n",
    "\n",
    "1. FROM\n",
    "\n",
    "1. WHERE\n",
    "\n",
    "1. GROUP BY\n",
    "\n",
    "1. HAVING\n",
    "\n",
    "1. ORDER BY"
   ]
  }
 ],
 "metadata": {
  "kernelspec": {
   "display_name": "Python 3",
   "language": "python",
   "name": "python3"
  },
  "language_info": {
   "codemirror_mode": {
    "name": "ipython",
    "version": 3
   },
   "file_extension": ".py",
   "mimetype": "text/x-python",
   "name": "python",
   "nbconvert_exporter": "python",
   "pygments_lexer": "ipython3",
   "version": "3.11.0"
  },
  "orig_nbformat": 4
 },
 "nbformat": 4,
 "nbformat_minor": 2
}
