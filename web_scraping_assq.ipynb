{
 "cells": [
  {
   "attachments": {},
   "cell_type": "markdown",
   "metadata": {},
   "source": [
    "# Q1. What is Web Scraping? Why is it Used? Give three areas where Web Scraping is used to get data."
   ]
  },
  {
   "attachments": {},
   "cell_type": "markdown",
   "metadata": {},
   "source": [
    "web scraping is a process of scrapping data from a website using automated tool.this process involves the programming language and libraries to extract structured data from the web page.web scraping is used for various reasones , such as to extract pricing data to gather custome reviews to monitor social media trends and to collect news articles"
   ]
  },
  {
   "attachments": {},
   "cell_type": "markdown",
   "metadata": {},
   "source": [
    "# Q2. What are the different methods used for Web Scraping?\n"
   ]
  },
  {
   "attachments": {},
   "cell_type": "markdown",
   "metadata": {},
   "source": [
    "### there are several methods used for web scraping , including\n",
    "\n",
    "1. parsing HTML : this involves using an HTML parser to extract data from html pagess.\n",
    "2. using Api's: some websites provides APIs that can be used to extract data in structured format.\n",
    "3. using webscriping tools : there are various available to that can be used to extract data from the websites\n",
    "4. Automated browsing : the method involves using a headless browser to browes the web and extract data . "
   ]
  },
  {
   "attachments": {},
   "cell_type": "markdown",
   "metadata": {},
   "source": [
    "# Q3. What is Beautiful Soup? Why is it used?\n"
   ]
  },
  {
   "attachments": {},
   "cell_type": "markdown",
   "metadata": {},
   "source": [
    "beautifulsoup is python library that is used for web scrapping purpose . it allows you to parse html and xml documents and extract from then .beautiful soup is used it provides easy-to-use api that allows you to nevigate and search HTMLs."
   ]
  },
  {
   "attachments": {},
   "cell_type": "markdown",
   "metadata": {},
   "source": [
    "# Q4. Why is flask used in this Web Scraping project?\n"
   ]
  },
  {
   "attachments": {},
   "cell_type": "markdown",
   "metadata": {},
   "source": [
    "flask is python framework that is used to build web applications . in this web scrapping project flask used , flask is used to build web application that displays that scrapped data . flask provides a simple and lightweight framework that makes to easy to build web application quickly ."
   ]
  },
  {
   "attachments": {},
   "cell_type": "markdown",
   "metadata": {},
   "source": [
    "# Q5. Write the names of AWS services used in this project. Also, explain the use of each service.\n"
   ]
  },
  {
   "attachments": {},
   "cell_type": "markdown",
   "metadata": {},
   "source": [
    "#### there are two AWS services used in this project which are as follows:\n"
   ]
  },
  {
   "attachments": {},
   "cell_type": "markdown",
   "metadata": {},
   "source": [
    "1. codepipeline \n",
    "2. beanstalk "
   ]
  },
  {
   "attachments": {},
   "cell_type": "markdown",
   "metadata": {},
   "source": [
    "codepipline : is used to connect your github repository to AWS \n",
    "beanstalk : is used build an cloud machine to perform the action , to run to programs on them"
   ]
  },
  {
   "cell_type": "markdown",
   "metadata": {},
   "source": []
  }
 ],
 "metadata": {
  "language_info": {
   "name": "python"
  },
  "orig_nbformat": 4
 },
 "nbformat": 4,
 "nbformat_minor": 2
}
