{
 "cells": [
  {
   "attachments": {},
   "cell_type": "markdown",
   "metadata": {},
   "source": [
    "# 1. what is multithreading in python? why is it used? Name the module used to handle threads in python"
   ]
  },
  {
   "attachments": {},
   "cell_type": "markdown",
   "metadata": {},
   "source": [
    "### multithreading in python is a process of running of multiple thread simultaneousaly in a single process\n",
    "### we use threading modul to handle threads in python"
   ]
  },
  {
   "cell_type": "code",
   "execution_count": 3,
   "metadata": {},
   "outputs": [],
   "source": [
    "import threading"
   ]
  },
  {
   "attachments": {},
   "cell_type": "markdown",
   "metadata": {},
   "source": [
    "# 2. why threading module used? write the use of the following functions\n",
    "1.   activeCount()\n",
    "2.  currentThread()\n",
    "3.  enumerate()"
   ]
  },
  {
   "attachments": {},
   "cell_type": "markdown",
   "metadata": {},
   "source": [
    "## The threading module in Python is used to create, manage and synchronize threads in a Python program. Here are the uses of the following functions in the 'threading' module:\n",
    "\n",
    "1. activeCount(): Returns the number of Thread objects currently alive.\n",
    "2. currentThread(): Returns a reference to the currently executing thread object.\n",
    "3. enumerate(): Returns a list of all thread objects that are currently active."
   ]
  },
  {
   "cell_type": "code",
   "execution_count": 4,
   "metadata": {},
   "outputs": [
    {
     "data": {
      "text/plain": [
       "6"
      ]
     },
     "execution_count": 4,
     "metadata": {},
     "output_type": "execute_result"
    }
   ],
   "source": [
    "threading.active_count()\n"
   ]
  },
  {
   "cell_type": "code",
   "execution_count": 5,
   "metadata": {},
   "outputs": [
    {
     "name": "stderr",
     "output_type": "stream",
     "text": [
      "C:\\Users\\SHIV\\AppData\\Local\\Temp\\ipykernel_9076\\1511990422.py:1: DeprecationWarning: currentThread() is deprecated, use current_thread() instead\n",
      "  threading.currentThread()\n"
     ]
    },
    {
     "data": {
      "text/plain": [
       "<_MainThread(MainThread, started 7144)>"
      ]
     },
     "execution_count": 5,
     "metadata": {},
     "output_type": "execute_result"
    }
   ],
   "source": [
    "threading.currentThread()"
   ]
  },
  {
   "cell_type": "code",
   "execution_count": 6,
   "metadata": {},
   "outputs": [
    {
     "data": {
      "text/plain": [
       "[<_MainThread(MainThread, started 7144)>,\n",
       " <Thread(IOPub, started daemon 1344)>,\n",
       " <Heartbeat(Heartbeat, started daemon 5428)>,\n",
       " <ControlThread(Control, started daemon 8500)>,\n",
       " <HistorySavingThread(IPythonHistorySavingThread, started 5164)>,\n",
       " <ParentPollerWindows(Thread-2, started daemon 7300)>]"
      ]
     },
     "execution_count": 6,
     "metadata": {},
     "output_type": "execute_result"
    }
   ],
   "source": [
    "threading.enumerate()"
   ]
  },
  {
   "attachments": {},
   "cell_type": "markdown",
   "metadata": {},
   "source": [
    "# 3. Explain the following functions\n",
    "1. run()\n",
    "1. start()\n",
    "1. join()\n",
    "1. isAlive()"
   ]
  },
  {
   "attachments": {},
   "cell_type": "markdown",
   "metadata": {},
   "source": [
    "1. run() : is called automaticaly when we start a thread using start() method . the run() is method is represent a thread acitvity. it calls the method expressed as the target argument in the thread object along with the possitional and keyword argument taken from the args and kwargs arguments , respectivaly"
   ]
  },
  {
   "cell_type": "code",
   "execution_count": 7,
   "metadata": {},
   "outputs": [
    {
     "name": "stdout",
     "output_type": "stream",
     "text": [
      "test 0 and 0\n",
      "test 0 and 1\n",
      "test 0 and 2\n",
      "test 1 and 0\n",
      "test 1 and 1\n",
      "test 1 and 2\n",
      "test 2 and 0\n",
      "test 2 and 1\n",
      "test 2 and 2\n"
     ]
    }
   ],
   "source": [
    "# run() the run method is used to represent the thread activity\n",
    "import threading\n",
    "def test11(id):\n",
    "    for i in range(3):\n",
    "        print(\"test %d and %d\"%(id,i))\n",
    "\n",
    "\n",
    "thread1 = [threading.Thread(target=test11,args=(i,)) for i in range(3)]\n",
    "for t in thread1:\n",
    "    t.run()"
   ]
  },
  {
   "attachments": {},
   "cell_type": "markdown",
   "metadata": {},
   "source": [
    "2. start() : the mwthod start() starts a new thread by calling the run() method . when start method is called , it creates a new thread of execution and then calls run() method on that thread"
   ]
  },
  {
   "cell_type": "code",
   "execution_count": 8,
   "metadata": {},
   "outputs": [
    {
     "name": "stdout",
     "output_type": "stream",
     "text": [
      "test 0 and 0\n",
      "test 0 and 1\n",
      "test 0 and 2\n",
      "test 1 and 0\n",
      "test 1 and 1\n",
      "test 1 and 2\n",
      "test 2 and 0\n",
      "test 2 and 1\n",
      "test 2 and 2\n"
     ]
    }
   ],
   "source": [
    "import threading\n",
    "def test11(id):\n",
    "    for i in range(3):\n",
    "        print(\"test %d and %d\"%(id,i))\n",
    "\n",
    "\n",
    "thread1 = [threading.Thread(target=test11,args=(i,)) for i in range(3)]\n",
    "for t in thread1:\n",
    "    t.start()"
   ]
  },
  {
   "attachments": {},
   "cell_type": "markdown",
   "metadata": {},
   "source": [
    "3. join() : this method waits for the thread to complete before moving on to the next instruction in the program."
   ]
  },
  {
   "cell_type": "code",
   "execution_count": 9,
   "metadata": {},
   "outputs": [
    {
     "name": "stdout",
     "output_type": "stream",
     "text": [
      "test 0 and 0\n",
      "test 0 and 1\n",
      "test 0 and 2\n",
      "test 1 and 0\n",
      "test 1 and 1\n",
      "test 1 and 2\n",
      "test 2 and 0\n",
      "test 2 and 1\n",
      "test 2 and 2\n"
     ]
    }
   ],
   "source": [
    "import threading\n",
    "def test11(id):\n",
    "    for i in range(3):\n",
    "        print(\"test %d and %d\"%(id,i))\n",
    "\n",
    "\n",
    "thread1 = [threading.Thread(target=test11,args=(i,)) for i in range(3)]\n",
    "for i in thread1:\n",
    "    i.start()\n",
    "for t in thread1:\n",
    "    t.join()"
   ]
  },
  {
   "attachments": {},
   "cell_type": "markdown",
   "metadata": {},
   "source": [
    "4. isalive() : this method returns true if the thread is currentaly executing and had not yet completed its execution ,otherwise it returns false."
   ]
  },
  {
   "cell_type": "code",
   "execution_count": 10,
   "metadata": {},
   "outputs": [
    {
     "name": "stdout",
     "output_type": "stream",
     "text": [
      "False\n",
      "False\n",
      "False\n"
     ]
    }
   ],
   "source": [
    "# run() the run method is used to represent the thread activity\n",
    "import threading\n",
    "def test11(id):\n",
    "    for i in range(3):\n",
    "        print(\"test %d and %d\"%(id,i))\n",
    "\n",
    "\n",
    "thread1 = [threading.Thread(target=test11,args=(i,)) for i in range(3)]\n",
    "for t in thread1:\n",
    "    print(t.is_alive())"
   ]
  },
  {
   "attachments": {},
   "cell_type": "markdown",
   "metadata": {},
   "source": [
    "# 4. write a python program to create two threads. Thread one must print the list of squares and thread two must print the list of cubes"
   ]
  },
  {
   "cell_type": "code",
   "execution_count": 13,
   "metadata": {},
   "outputs": [],
   "source": [
    "def squere():\n",
    "    for i in range(1,11):\n",
    "        print(f\"the squere if {i} is {i**2}\")\n",
    "        \n",
    "    print(\"\\n\")\n",
    "    \n",
    "def cube():\n",
    "    for i in range(1,11):\n",
    "        print(f\"the cube of {i} is {i**3}\")\n",
    "    "
   ]
  },
  {
   "cell_type": "code",
   "execution_count": 14,
   "metadata": {},
   "outputs": [
    {
     "name": "stdout",
     "output_type": "stream",
     "text": [
      "the squere if 1 is 1\n",
      "the squere if 2 is 4\n",
      "the squere if 3 is 9\n",
      "the squere if 4 is 16\n",
      "the squere if 5 is 25\n",
      "the squere if 6 is 36\n",
      "the squere if 7 is 49\n",
      "the squere if 8 is 64\n",
      "the squere if 9 is 81\n",
      "the squere if 10 is 100\n",
      "\n",
      "\n",
      "the cube of 1 is 1\n",
      "the cube of 2 is 8\n",
      "the cube of 3 is 27\n",
      "the cube of 4 is 64\n",
      "the cube of 5 is 125\n",
      "the cube of 6 is 216\n",
      "the cube of 7 is 343\n",
      "the cube of 8 is 512\n",
      "the cube of 9 is 729\n",
      "the cube of 10 is 1000\n"
     ]
    }
   ],
   "source": [
    "sqrs = threading.Thread(target=squere)\n",
    "cubes = threading.Thread(target=cube)\n",
    "sqrs.start()\n",
    "cubes.start()"
   ]
  },
  {
   "attachments": {},
   "cell_type": "markdown",
   "metadata": {},
   "source": [
    "# 5. State advantages and disadvantages of multithreading"
   ]
  },
  {
   "attachments": {},
   "cell_type": "markdown",
   "metadata": {},
   "source": [
    "# advantages\n",
    "1. better use of cpu resource\n",
    "2. better use of cache storage by utilizing resources\n",
    "3. decreased cost of maintenance\n",
    "4. Enhanced performance by decreased development time\n",
    "# disadvantages\n",
    "1. complex dubugging and testing processes\n",
    "2. overhead stiching of context\n",
    "3. increased potential of deadlock occurance\n",
    "4. increased difficulty level in writting progam"
   ]
  },
  {
   "attachments": {},
   "cell_type": "markdown",
   "metadata": {},
   "source": [
    "# 6. Explain deadlocks and race conditions."
   ]
  },
  {
   "attachments": {},
   "cell_type": "markdown",
   "metadata": {},
   "source": [
    "### Deadlocks and race conditions are common problems in multithreaded programming. A race condition occurs when two or more threads access shared data and try to modify it at the same time, resulting in unpredictable behavior. Deadlocks occur when two or more threads are blocked waiting for each other to release resources"
   ]
  }
 ],
 "metadata": {
  "kernelspec": {
   "display_name": "Python 3",
   "language": "python",
   "name": "python3"
  },
  "language_info": {
   "codemirror_mode": {
    "name": "ipython",
    "version": 3
   },
   "file_extension": ".py",
   "mimetype": "text/x-python",
   "name": "python",
   "nbconvert_exporter": "python",
   "pygments_lexer": "ipython3",
   "version": "3.11.0"
  },
  "orig_nbformat": 4
 },
 "nbformat": 4,
 "nbformat_minor": 2
}
