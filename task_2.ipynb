{
 "cells": [
  {
   "attachments": {},
   "cell_type": "markdown",
   "metadata": {},
   "source": [
    "Q1. You are writing code for a company. The requirement of the company is that you create a python function that will check whether the password entered by the user is correct or not. The function should take the password as input and return the string “Valid Password” if the entered password follows the below-given password guidelines else it should return “Invalid Password”. \n",
    "\n",
    "Note: \n",
    "1. The Password should contain at least two uppercase letters and at least two lowercase letters. \n",
    "2. The Password should contain at least a number and three special characters. \n",
    "3. The length of the password should be 10 characters long. \n"
   ]
  },
  {
   "cell_type": "code",
   "execution_count": 2,
   "metadata": {},
   "outputs": [],
   "source": [
    "# Here is a corrected version of \n",
    "def psw_checker(x):\n",
    "    def case_check():\n",
    "        count_of_upper = 0\n",
    "        for i in x:\n",
    "            if i.isupper():\n",
    "                count_of_upper += 1\n",
    "        \n",
    "        count_of_lower = 0\n",
    "        for i in x:\n",
    "            if i.islower():\n",
    "                count_of_lower +=1\n",
    "        \n",
    "        if count_of_lower>=2 and count_of_upper>=2:\n",
    "            return True\n",
    "    \n",
    "    def num_and_spe_check():\n",
    "        count_num = 0\n",
    "        for letter in x:\n",
    "            if letter.isdigit():\n",
    "                count_num += 1\n",
    "        count_sep = 0\n",
    "        for letter in x:\n",
    "            if not letter.isalnum():\n",
    "                count_sep += 1\n",
    "        if count_sep >=3 and count_num >=1:\n",
    "            return True\n",
    "\n",
    "    def len_check():\n",
    "        if len(x) >= 10 and num_and_spe_check() == True:\n",
    "            return True\n",
    "\n",
    "    if len_check() == True and case_check() == True:\n",
    "        return \"The password is valid\"\n",
    "    else:\n",
    "        return \"Invalid password\"\n",
    "\n",
    "    \n",
    "    "
   ]
  },
  {
   "attachments": {},
   "cell_type": "markdown",
   "metadata": {},
   "source": [
    "Q2. Solve the below-given questions using at least one of the following:\n",
    "1. Lambda function\n",
    "2. Filter function\n",
    "3. map function\n",
    "4. List Comprehension\n",
    "\n",
    " Check if the string starts with a particular letter\n",
    " Check if the string is numeric\n",
    " Sort a list of tuples having fruit names and their quantity. [(\"mango\",99),(\"orange\",80), (\"grapes\", 1000)-\n",
    " Find the squares of numbers from 1 to 10\n",
    " Find the cube root of numbers from 1 to 10\n",
    " Check if a given number is even\n",
    " Filter odd numbers from the given list.\n",
    "[1,2,3,4,5,6,7,8,9,10]\n",
    "Sort a list of integers into positive and negative integers lists.\n",
    "[1,2,3,4,5,6,-1,-2,-3,-4,-5,0]"
   ]
  },
  {
   "cell_type": "code",
   "execution_count": 5,
   "metadata": {},
   "outputs": [
    {
     "data": {
      "text/plain": [
       "['p']"
      ]
     },
     "execution_count": 5,
     "metadata": {},
     "output_type": "execute_result"
    }
   ],
   "source": [
    "# ny using filter function\n",
    "string = 'prashant'\n",
    "list(filter(lambda x :x[0]=='p',string))"
   ]
  },
  {
   "cell_type": "code",
   "execution_count": 21,
   "metadata": {},
   "outputs": [
    {
     "ename": "TypeError",
     "evalue": "'function' object is not iterable",
     "output_type": "error",
     "traceback": [
      "\u001b[1;31m---------------------------------------------------------------------------\u001b[0m",
      "\u001b[1;31mTypeError\u001b[0m                                 Traceback (most recent call last)",
      "Cell \u001b[1;32mIn[21], line 2\u001b[0m\n\u001b[0;32m      1\u001b[0m \u001b[39mlist\u001b[39m(\u001b[39mfilter\u001b[39m(\u001b[39mlambda\u001b[39;00m x : x\u001b[39m.\u001b[39misnumeric() , string))\n\u001b[1;32m----> 2\u001b[0m str1 \u001b[39m=\u001b[39m \u001b[39mlist\u001b[39;49m(\u001b[39mlambda\u001b[39;49;00m x : x\u001b[39m.\u001b[39;49misnumeric())\n\u001b[0;32m      3\u001b[0m \u001b[39mprint\u001b[39m(str1)\n",
      "\u001b[1;31mTypeError\u001b[0m: 'function' object is not iterable"
     ]
    }
   ],
   "source": [
    "list(filter(lambda x : x.isnumeric() , string))\n",
    "str1 = list(lambda x : x.isnumeric())\n",
    "print(str1)"
   ]
  },
  {
   "cell_type": "code",
   "execution_count": null,
   "metadata": {},
   "outputs": [],
   "source": []
  }
 ],
 "metadata": {
  "kernelspec": {
   "display_name": "Python 3",
   "language": "python",
   "name": "python3"
  },
  "language_info": {
   "codemirror_mode": {
    "name": "ipython",
    "version": 3
   },
   "file_extension": ".py",
   "mimetype": "text/x-python",
   "name": "python",
   "nbconvert_exporter": "python",
   "pygments_lexer": "ipython3",
   "version": "3.11.0"
  },
  "orig_nbformat": 4
 },
 "nbformat": 4,
 "nbformat_minor": 2
}
