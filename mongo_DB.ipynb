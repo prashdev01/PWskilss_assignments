{
 "cells": [
  {
   "attachments": {},
   "cell_type": "markdown",
   "metadata": {},
   "source": [
    "# Q1. What is MongoDB? Explain non-relational databases in short. In which scenarios it is preferred to use MongoDB over SQL databases?"
   ]
  },
  {
   "attachments": {},
   "cell_type": "markdown",
   "metadata": {},
   "source": [
    "###  MongoDB is a non-relational database that uses flexible documents instead of tables and rows to store and query various forms of data. It supports JSON-like storage and provides an elastic data storage model that simplifies database management and enables scalability. Non-relational databases are different from traditional relational databases in that they store their data in a non-tabular form. Instead, non-relational databases might be based on data structures like documents. MongoDB is preferred over SQL databases in scenarios where the data is unstructured or semi-structured, the data volume is large and growing rapidly, the data model is evolving frequently, and the application requires real-time analytics."
   ]
  },
  {
   "attachments": {},
   "cell_type": "markdown",
   "metadata": {},
   "source": [
    "# Q2. State and Explain the features of MongoDB.\n"
   ]
  },
  {
   "attachments": {},
   "cell_type": "markdown",
   "metadata": {},
   "source": [
    "### The features of MongoDB are:\n",
    "1. Document-oriented: MongoDB stores data in flexible, JSON-like documents that can have varying structures.\n",
    "\n",
    "2. Ad hoc queries: MongoDB supports search by field, range queries, regular expression searches.\n",
    "\n",
    "3. Indexing: Any field in a MongoDB document can be indexed.\n",
    "\n",
    "4. Replication: MongoDB provides high availability with replica sets.\n",
    "\n",
    "5. Load balancing: MongoDB scales horizontally using sharding.\n",
    "\n",
    "6. Aggregation: MongoDB provides aggregation pipeline for batch processing of data and aggregation operations.\n",
    "\n",
    "7. File storage: MongoDB can be used as a file system with load balancing and data replication features over multiple machines for  storing files.\n"
   ]
  },
  {
   "attachments": {},
   "cell_type": "markdown",
   "metadata": {},
   "source": [
    "# Q3. Write a code to connect MongoDB to Python. Also, create a database and a collection in MongoDB.\n"
   ]
  },
  {
   "cell_type": "code",
   "execution_count": 8,
   "metadata": {},
   "outputs": [],
   "source": [
    "# Import the necessary packages\n",
    "from pymongo import MongoClient\n",
    "\n",
    "# Connect to MongoDB\n",
    "client = MongoClient('mongodb://localhost:27017/')\n",
    "\n",
    "# Create a database\n",
    "db = client['mydatabase']\n",
    "\n",
    "# Create a collection\n",
    "col = db['mycollection']\n"
   ]
  },
  {
   "attachments": {},
   "cell_type": "markdown",
   "metadata": {},
   "source": [
    "\n",
    "# Q4. Using the database and the collection created in question number 3, write a code to insert one record, and insert many records. Use the find() and find_one() methods to print the inserted record."
   ]
  },
  {
   "cell_type": "code",
   "execution_count": 9,
   "metadata": {},
   "outputs": [
    {
     "name": "stdout",
     "output_type": "stream",
     "text": [
      "{'_id': ObjectId('643e4a6126a12df99e303b6d'), 'name': 'John', 'age': 25, 'city': 'New York'}\n",
      "{'_id': ObjectId('643e4a6126a12df99e303b6e'), 'name': 'Jane', 'age': 30, 'city': 'Los Angeles'}\n",
      "{'_id': ObjectId('643e4a6126a12df99e303b6f'), 'name': 'Jim', 'age': 35, 'city': 'Chicago'}\n",
      "{'_id': ObjectId('643e4a6126a12df99e303b6d'), 'name': 'John', 'age': 25, 'city': 'New York'}\n"
     ]
    }
   ],
   "source": [
    "# Insert one record\n",
    "record = {\"name\": \"John\", \"age\": 25, \"city\": \"New York\"}\n",
    "col.insert_one(record)\n",
    "\n",
    "# Insert many records\n",
    "records = [{\"name\": \"Jane\", \"age\": 30, \"city\": \"Los Angeles\"},\n",
    "           {\"name\": \"Jim\", \"age\": 35, \"city\": \"Chicago\"}]\n",
    "col.insert_many(records)\n",
    "\n",
    "# Print the inserted records\n",
    "for record in col.find():\n",
    "    print(record)\n",
    "\n",
    "# Print one inserted record\n",
    "print(col.find_one())\n"
   ]
  },
  {
   "attachments": {},
   "cell_type": "markdown",
   "metadata": {},
   "source": [
    "# Q5. Explain how you can use the find() method to query the MongoDB database. Write a simple code to demonstrate this."
   ]
  },
  {
   "attachments": {},
   "cell_type": "markdown",
   "metadata": {},
   "source": [
    "### The find() method is used to query the MongoDB database. It returns a cursor object that can be used to iterate over the results. The find() method takes a query object as its parameter, which specifies the conditions for the search. The query object is created using a set of key-value pairs, where the key is the field to search and the value is the search criteria.\n",
    "\n",
    "#### Here is an example code to demonstrate the use of the find() method:"
   ]
  },
  {
   "cell_type": "code",
   "execution_count": 10,
   "metadata": {},
   "outputs": [
    {
     "name": "stdout",
     "output_type": "stream",
     "text": [
      "{'_id': ObjectId('643e4a6126a12df99e303b6e'), 'name': 'Jane', 'age': 30, 'city': 'Los Angeles'}\n",
      "{'_id': ObjectId('643e4a6126a12df99e303b6f'), 'name': 'Jim', 'age': 35, 'city': 'Chicago'}\n"
     ]
    }
   ],
   "source": [
    "# Find all records where the age is greater than 25\n",
    "query = {\"age\": {\"$gt\": 25}}\n",
    "result = col.find(query)\n",
    "\n",
    "# Print the results\n",
    "for record in result:\n",
    "    print(record)\n"
   ]
  },
  {
   "attachments": {},
   "cell_type": "markdown",
   "metadata": {},
   "source": [
    "# Q6. Explain the sort() method. Give an example to demonstrate sorting in MongoDB."
   ]
  },
  {
   "attachments": {},
   "cell_type": "markdown",
   "metadata": {},
   "source": [
    "### The sort() method is used to sort the results of a query in ascending or descending order. It takes one or more fields as its parameter and sorts the results based on those fields. The sort() method returns a cursor object that can be used to iterate over the sorted results.\n",
    "\n",
    "#### Here is an example code to demonstrate sorting in MongoDB"
   ]
  },
  {
   "cell_type": "code",
   "execution_count": 11,
   "metadata": {},
   "outputs": [
    {
     "name": "stdout",
     "output_type": "stream",
     "text": [
      "{'_id': ObjectId('643e4a6126a12df99e303b6f'), 'name': 'Jim', 'age': 35, 'city': 'Chicago'}\n",
      "{'_id': ObjectId('643e4a6126a12df99e303b6e'), 'name': 'Jane', 'age': 30, 'city': 'Los Angeles'}\n",
      "{'_id': ObjectId('643e4a6126a12df99e303b6d'), 'name': 'John', 'age': 25, 'city': 'New York'}\n"
     ]
    }
   ],
   "source": [
    "# Sort the records by age in descending order\n",
    "result = col.find().sort(\"age\", -1)\n",
    "\n",
    "# Print the results\n",
    "for record in result:\n",
    "    print(record)\n"
   ]
  },
  {
   "attachments": {},
   "cell_type": "markdown",
   "metadata": {},
   "source": [
    "# Q7. Explain why delete_one(), delete_many(), and drop() is used."
   ]
  },
  {
   "attachments": {},
   "cell_type": "markdown",
   "metadata": {},
   "source": [
    "### The delete_one() method is used to delete a single document that matches a specified filter criteria. The delete_many() method is used to delete multiple documents that match a specified filter criteria. The drop() method is used to remove an entire collection from a database.\n",
    "\n",
    "#### For example, if you have a collection called “customers” and you want to delete all documents where the “name” field equals “John”, you can use the following code: \n",
    "\n"
   ]
  },
  {
   "cell_type": "code",
   "execution_count": 12,
   "metadata": {},
   "outputs": [],
   "source": [
    "# Delete one document\n",
    "query = {\"name\": \"John\"}\n",
    "col.delete_one(query)\n",
    "\n",
    "# Delete multiple documents\n",
    "query = {\"age\": {\"$lt\": 30}}\n",
    "col.delete_many(query)\n",
    "\n",
    "# Drop the collection\n",
    "col.drop()\n",
    "\n",
    "# This will delete all documents where the “name” field equals “John”. To delete only one document that matches the same criteria, you can use the delete_one() method instead of delete_many()."
   ]
  },
  {
   "cell_type": "code",
   "execution_count": null,
   "metadata": {},
   "outputs": [],
   "source": []
  }
 ],
 "metadata": {
  "kernelspec": {
   "display_name": "Python 3",
   "language": "python",
   "name": "python3"
  },
  "language_info": {
   "codemirror_mode": {
    "name": "ipython",
    "version": 3
   },
   "file_extension": ".py",
   "mimetype": "text/x-python",
   "name": "python",
   "nbconvert_exporter": "python",
   "pygments_lexer": "ipython3",
   "version": "3.11.0"
  },
  "orig_nbformat": 4
 },
 "nbformat": 4,
 "nbformat_minor": 2
}
