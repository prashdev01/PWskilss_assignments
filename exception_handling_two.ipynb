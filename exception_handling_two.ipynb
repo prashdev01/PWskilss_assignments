{
 "cells": [
  {
   "attachments": {},
   "cell_type": "markdown",
   "metadata": {},
   "source": [
    "# Q1. Explain why we have to use the Exception class while creating a Custom Exception.\n",
    "### Note: Here Exception class refers to the base class for all the exceptions.\n"
   ]
  },
  {
   "attachments": {},
   "cell_type": "markdown",
   "metadata": {},
   "source": [
    "so it can be inherited from the Exception class which is the superclass for all the exceptions .\n",
    "that us to use all the methods and property in our class "
   ]
  },
  {
   "attachments": {},
   "cell_type": "markdown",
   "metadata": {},
   "source": [
    "# Q2. Write a python program to print Python Exception Hierarchy."
   ]
  },
  {
   "cell_type": "code",
   "execution_count": 9,
   "metadata": {},
   "outputs": [
    {
     "name": "stdout",
     "output_type": "stream",
     "text": [
      "Level 0: <module>\n",
      "Level 1: run_code\n",
      "Level 2: run_ast_nodes\n",
      "Level 3: run_cell_async\n",
      "Level 4: _pseudo_sync_runner\n",
      "Level 5: _run_cell\n",
      "Level 6: run_cell\n",
      "Level 7: run_cell\n",
      "Level 8: do_execute\n",
      "Level 9: execute_request\n",
      "Level 10: dispatch_shell\n",
      "Level 11: process_one\n",
      "Level 12: dispatch_queue\n",
      "Level 13: _run\n",
      "Level 14: _run_once\n",
      "Level 15: run_forever\n",
      "Level 16: start\n",
      "Level 17: start\n",
      "Level 18: launch_instance\n",
      "Level 19: <module>\n",
      "Level 20: _run_code\n",
      "Level 21: _run_module_as_main\n"
     ]
    }
   ],
   "source": [
    "import traceback\n",
    "\n",
    "for level, name in enumerate(reversed(traceback.extract_stack())):\n",
    "    print(f\"Level {level}: {name.name}\")"
   ]
  },
  {
   "attachments": {},
   "cell_type": "markdown",
   "metadata": {},
   "source": [
    "# Q3. What errors are defined in the ArithmeticError class? Explain any two with an example."
   ]
  },
  {
   "cell_type": "code",
   "execution_count": 12,
   "metadata": {},
   "outputs": [],
   "source": [
    "# ArithmeticError class will give an exceptions if there is an  arithematic error occored\n",
    "# The ArithmeticError class in Python is used to handle all the errors that occur while performing arithmetic operations\n",
    "\n",
    "# 1 zeroDivision error\n",
    "# 2 overflow error"
   ]
  },
  {
   "attachments": {},
   "cell_type": "markdown",
   "metadata": {},
   "source": [
    "# Q4. Why LookupError class is used? Explain with an example KeyError and IndexError."
   ]
  },
  {
   "attachments": {},
   "cell_type": "markdown",
   "metadata": {},
   "source": [
    "The LookupError class in Python forms the base class for all exceptions that are raised when an index or a key is not found for a sequence or dictionary respectively1. You can use LookupError exception class to handle both IndexError and KeyError exception classes1."
   ]
  },
  {
   "cell_type": "code",
   "execution_count": 13,
   "metadata": {},
   "outputs": [
    {
     "ename": "KeyError",
     "evalue": "'c'",
     "output_type": "error",
     "traceback": [
      "\u001b[1;31m---------------------------------------------------------------------------\u001b[0m",
      "\u001b[1;31mKeyError\u001b[0m                                  Traceback (most recent call last)",
      "Cell \u001b[1;32mIn[13], line 2\u001b[0m\n\u001b[0;32m      1\u001b[0m mydict \u001b[39m=\u001b[39m {\u001b[39m'\u001b[39m\u001b[39ma\u001b[39m\u001b[39m'\u001b[39m : \u001b[39m22\u001b[39m , \u001b[39m'\u001b[39m\u001b[39mb\u001b[39m\u001b[39m'\u001b[39m : \u001b[39m29\u001b[39m }\n\u001b[1;32m----> 2\u001b[0m mydict[\u001b[39m'\u001b[39;49m\u001b[39mc\u001b[39;49m\u001b[39m'\u001b[39;49m]\n",
      "\u001b[1;31mKeyError\u001b[0m: 'c'"
     ]
    }
   ],
   "source": [
    "# KeyError: This error occurs when you try to access a key that does not exist in a dictionary\n",
    "mydict = {'a' : 22 , 'b' : 29 }\n",
    "mydict['c']"
   ]
  },
  {
   "cell_type": "code",
   "execution_count": 14,
   "metadata": {},
   "outputs": [
    {
     "ename": "IndexError",
     "evalue": "list index out of range",
     "output_type": "error",
     "traceback": [
      "\u001b[1;31m---------------------------------------------------------------------------\u001b[0m",
      "\u001b[1;31mIndexError\u001b[0m                                Traceback (most recent call last)",
      "Cell \u001b[1;32mIn[14], line 3\u001b[0m\n\u001b[0;32m      1\u001b[0m \u001b[39m# IndexError: This error occurs when you try to access an index that does not exist in a sequence\u001b[39;00m\n\u001b[0;32m      2\u001b[0m mylist \u001b[39m=\u001b[39m [\u001b[39m1\u001b[39m,\u001b[39m2\u001b[39m,\u001b[39m3\u001b[39m,\u001b[39m4\u001b[39m,\u001b[39m5\u001b[39m,\u001b[39m6\u001b[39m]\n\u001b[1;32m----> 3\u001b[0m mylist[\u001b[39m6\u001b[39;49m]\n",
      "\u001b[1;31mIndexError\u001b[0m: list index out of range"
     ]
    }
   ],
   "source": [
    "# IndexError: This error occurs when you try to access an index that does not exist in a sequence\n",
    "mylist = [1,2,3,4,5,6]\n",
    "mylist[6]"
   ]
  },
  {
   "attachments": {},
   "cell_type": "markdown",
   "metadata": {},
   "source": [
    "# Q5. Explain ImportError. What is ModuleNotFoundError?\n"
   ]
  },
  {
   "attachments": {},
   "cell_type": "markdown",
   "metadata": {},
   "source": [
    "import error is an error which causes due to , the parser dont found any install version of that modul . \n",
    "when we import an modul which is not installed and we are trying to use it in your code  the ModulNotFoundError error occured"
   ]
  },
  {
   "cell_type": "code",
   "execution_count": 15,
   "metadata": {},
   "outputs": [
    {
     "ename": "ModuleNotFoundError",
     "evalue": "No module named 'prashant'",
     "output_type": "error",
     "traceback": [
      "\u001b[1;31m---------------------------------------------------------------------------\u001b[0m",
      "\u001b[1;31mModuleNotFoundError\u001b[0m                       Traceback (most recent call last)",
      "Cell \u001b[1;32mIn[15], line 1\u001b[0m\n\u001b[1;32m----> 1\u001b[0m \u001b[39mimport\u001b[39;00m \u001b[39mprashant\u001b[39;00m\n",
      "\u001b[1;31mModuleNotFoundError\u001b[0m: No module named 'prashant'"
     ]
    }
   ],
   "source": [
    "import prashant"
   ]
  },
  {
   "attachments": {},
   "cell_type": "markdown",
   "metadata": {},
   "source": [
    "# Q6. List down some best practices for exception handling in python."
   ]
  },
  {
   "cell_type": "markdown",
   "metadata": {},
   "source": []
  },
  {
   "attachments": {},
   "cell_type": "markdown",
   "metadata": {},
   "source": [
    "some best practices for the exception handling is as follows :\n",
    "1. use always specific exception \n",
    "2. print always a proper massage\n",
    "3. always try to log every error\n",
    "4. always avoid multiple exception\n",
    "5. document all the error \n",
    "6. cleanup all the resoureses "
   ]
  }
 ],
 "metadata": {
  "kernelspec": {
   "display_name": "Python 3",
   "language": "python",
   "name": "python3"
  },
  "language_info": {
   "codemirror_mode": {
    "name": "ipython",
    "version": 3
   },
   "file_extension": ".py",
   "mimetype": "text/x-python",
   "name": "python",
   "nbconvert_exporter": "python",
   "pygments_lexer": "ipython3",
   "version": "3.11.0"
  },
  "orig_nbformat": 4
 },
 "nbformat": 4,
 "nbformat_minor": 2
}
